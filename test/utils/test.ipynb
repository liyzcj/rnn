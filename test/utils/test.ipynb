{
 "cells": [
  {
   "cell_type": "code",
   "execution_count": 1,
   "metadata": {},
   "outputs": [],
   "source": [
    "import tensorflow as tf\n",
    "import reader\n",
    "import os"
   ]
  },
  {
   "cell_type": "code",
   "execution_count": 2,
   "metadata": {},
   "outputs": [],
   "source": [
    "raw_data = reader.ptb_raw_data('simple-examples/data/')\n",
    "train_data, valid_data, test_data, _ = raw_data "
   ]
  },
  {
   "cell_type": "code",
   "execution_count": 3,
   "metadata": {},
   "outputs": [],
   "source": [
    "class SmallConfig(object):\n",
    "    init_scale = 0.1\n",
    "    learning_rate = 1.0\n",
    "    max_grad_norm = 5\n",
    "    num_layers = 2\n",
    "    num_steps = 20\n",
    "    hidden_size = 200\n",
    "    max_epoch = 4\n",
    "    max_max_epoch = 13\n",
    "    keep_prob = 1.0\n",
    "    lr_decay = 0.5\n",
    "    batch_size = 20\n",
    "    vocab_size = 10000"
   ]
  },
  {
   "cell_type": "code",
   "execution_count": 4,
   "metadata": {},
   "outputs": [],
   "source": [
    "config = SmallConfig()\n",
    "eval_config = SmallConfig()\n",
    "eval_config.batch_size = 1\n",
    "eval_config.num_steps = 1"
   ]
  },
  {
   "cell_type": "code",
   "execution_count": null,
   "metadata": {},
   "outputs": [],
   "source": [
    "data_len = len(train_data)"
   ]
  },
  {
   "cell_type": "code",
   "execution_count": 9,
   "metadata": {
    "scrolled": true
   },
   "outputs": [],
   "source": [
    "train_data = tf.convert_to_tensor(train_data, dtype=tf.int32, name=\"train_data\")"
   ]
  },
  {
   "cell_type": "code",
   "execution_count": 22,
   "metadata": {},
   "outputs": [],
   "source": [
    "batch_len = data_len // config.batch_size"
   ]
  },
  {
   "cell_type": "code",
   "execution_count": 23,
   "metadata": {
    "scrolled": true
   },
   "outputs": [
    {
     "name": "stdout",
     "output_type": "stream",
     "text": [
      "46479\n"
     ]
    }
   ],
   "source": [
    "print(batch_len)"
   ]
  },
  {
   "cell_type": "code",
   "execution_count": 26,
   "metadata": {},
   "outputs": [],
   "source": [
    "data = tf.reshape(train_data[0 : config.batch_size * batch_len],\n",
    "                      [config.batch_size, batch_len])"
   ]
  },
  {
   "cell_type": "code",
   "execution_count": 27,
   "metadata": {},
   "outputs": [
    {
     "data": {
      "text/plain": [
       "TensorShape([Dimension(20), Dimension(46479)])"
      ]
     },
     "execution_count": 27,
     "metadata": {},
     "output_type": "execute_result"
    }
   ],
   "source": [
    "data.shape"
   ]
  },
  {
   "cell_type": "code",
   "execution_count": 28,
   "metadata": {},
   "outputs": [],
   "source": [
    "epoch_size = (batch_len - 1) // config.num_steps"
   ]
  },
  {
   "cell_type": "code",
   "execution_count": 30,
   "metadata": {},
   "outputs": [],
   "source": [
    "epoch_size = tf.identity(epoch_size, name=\"epoch_size\")"
   ]
  },
  {
   "cell_type": "code",
   "execution_count": 31,
   "metadata": {},
   "outputs": [
    {
     "data": {
      "text/plain": [
       "<tf.Tensor 'epoch_size:0' shape=() dtype=int32>"
      ]
     },
     "execution_count": 31,
     "metadata": {},
     "output_type": "execute_result"
    }
   ],
   "source": [
    "epoch_size"
   ]
  },
  {
   "cell_type": "code",
   "execution_count": 41,
   "metadata": {},
   "outputs": [],
   "source": [
    "i = tf.train.range_input_producer(epoch_size, shuffle=False).dequeue()"
   ]
  },
  {
   "cell_type": "code",
   "execution_count": 64,
   "metadata": {},
   "outputs": [
    {
     "name": "stdout",
     "output_type": "stream",
     "text": [
      "(20, 20)\n"
     ]
    }
   ],
   "source": [
    "x = tf.strided_slice(data, [0, i * config.num_steps],\n",
    "                         [config.batch_size, (i + 1) * config.num_steps])\n",
    "x.set_shape([config.batch_size, config.num_steps])\n",
    "#在data词矩阵中获取参与第i次迭代的训练词对应的目标词\n",
    "y = tf.strided_slice(data, [0, i * config.num_steps + 1],\n",
    "                         [config.batch_size, (i + 1) * config.num_steps + 1])\n",
    "y.set_shape([config.batch_size, config.num_steps])"
   ]
  },
  {
   "cell_type": "code",
   "execution_count": 66,
   "metadata": {},
   "outputs": [
    {
     "name": "stdout",
     "output_type": "stream",
     "text": [
      "x :  [[9970 9971 9972 9974 9975 9976 9980 9981 9982 9983 9984 9986 9987 9988\n",
      "  9989 9991 9992 9993 9994 9995]\n",
      " [  10   42  105 3195    6 1353   52   22  207   10   14   42    1 1268\n",
      "    36    6 1353    9 1139    5]\n",
      " [   3   71    4   27  246   60   11  215    4    1 1846    9    3   71\n",
      "   546    2 6505  162    6  104]\n",
      " [   8  446  398    2   10  863  803   79   25 5175 2476    5  526 4787\n",
      "  2151  270   28   15    2 1206]\n",
      " [  18  296    7  201   76    4  182  560 3836   17  974  975    6  942\n",
      "     4  156   77 1570  288  644]\n",
      " [1028    0  332 7147  328 1452 8595   59 1569  105 2231    1  895    1\n",
      "  5574    4  618    2   29   39]\n",
      " [   2  179  940  117   38   59  677   14    1   10 1016  309   13 1077\n",
      "  6360   16   23 4490    9  355]\n",
      " [1261    0    1    0 2172 1261    0    1    2   23 2662    8   23 3049\n",
      "  7386    7  769    1    7    0]\n",
      " [1473   88   19 2578 6591    8  629  563    8  223  184  127   18    6\n",
      "   828    1    2    0  324  158]\n",
      " [ 155 4404    2  894 1585   96 5481 2148   15  915   14   30  159    6\n",
      "   257   11  350    4 8753  997]\n",
      " [  36  501    5    6 1969    0   98   89 2254    0  312 1641    4 1063\n",
      "     8  713    0  264  820    2]\n",
      " [1374    2 5941   65   31    1  853 2987  191   13 2887   66    0 1890\n",
      "  7231   89   25  263    5  138]\n",
      " [  25   45  769    2   23 2634 1096 1175   19    6    1  154   23 1890\n",
      "    30    6    1    1    2  198]\n",
      " [ 226    2    5 7754    0  434 4749 1276   34  497 2150    6    1 1168\n",
      "  2755    5  882    5 7663    7]\n",
      " [   8    1   22   73   10  863   11  898  653  270    8  500  273 1559\n",
      "     2   14 3019    5  585   84]\n",
      " [   3    3    8  554   16  850    3    3    2   14   24  198  150 2262\n",
      "    10    0  507   74 2619    0]\n",
      " [  44   23    1    0 1704    4    1    2   22  373   38  275    1 8017\n",
      "     2 2785 3659 4359   80  634]\n",
      " [ 541    4  207  247   26 1291    5  293    8    0  115  303  450   42\n",
      "    25 1291    5  254    2   23]\n",
      " [  47 4447 1431    4 6967 2121   24  452   18   43    3   48 1076   12\n",
      "     3   21   69   40    2 1323]\n",
      " [7831   36 1678  667  134  355    7    0 2019    4    0    1  268 3639\n",
      "     2  166 1563    4 4558  157]]\n",
      "y :  [[9997 9998 9999    2 9256    1    3   72  393   33 2133    0  146   19\n",
      "     6 9207  276  407    3    2]\n",
      " [ 823  400 1557    1 1173 8620   15    2    0  260   19   14   24  678\n",
      "    17    0  165  273 1321    8]\n",
      " [  37   30  294 4900   12    3   48    2    1    1   24 2470   70    8\n",
      "   151  154  290    4   39 3271]\n",
      " [1690   42   25  917 1929    1   20 6730 2490  178  359 5635    2    8\n",
      "  1653   79 1977  161    7  399]\n",
      " [  29  131    1   19    0  272 7820   16    8  116 2814  968    5    0\n",
      "  1719  466   39  123    4   75]\n",
      " [   0   53  736 1070 6497    0 5002    4    1    2   23 1381  328   63\n",
      "  1140    5 2133    0 7400 4864]\n",
      " [   6    1    2   39   13 3581    8    1 7237    9  390   44  486    1\n",
      "    56   30   50   31 1631  712]\n",
      " [  72    8    0    1 3975 3495  124    1    9    1    7 4394 1429   24\n",
      "  3122   17    6    1  806    2]\n",
      " [   6  300  629  224   10  270   43   12    3    7    0  379   13 4072\n",
      "    20    3    5    3 4994    2]\n",
      " [   6  303 2182    4    1    8    1    1    2 6653 5481  292  832    3\n",
      "     3    4 8753    2    0 4554]\n",
      " [2002  546   34 2951   17   12    3   48  155    3  120 1187  362  546\n",
      "    34 2129   17   12    3   48]\n",
      " [8106 4110 1222 4975    2    1 2221 7863   20  843    0 2839    2    1\n",
      "  2472 6260  349    1    1   91]\n",
      " [ 170   23 2634 6236    5   49 2257   23 1890    1    5    6    1   11\n",
      "   211   61  607 2480  699    8]\n",
      " [   2 1509    4    0  176   41   42  386   91  687    7    3   26    1\n",
      "    29  215 2559   42 1077   25]\n",
      " [   2   14  695 1608 2341    5    0   37   22   73   10  863   11 3958\n",
      "     8 1196  350    2  114  403]\n",
      " [   8    1    4 2801 1010    9    1    8    4   49    1 3877   22    6\n",
      "  2828    4   53   98 1157    2]\n",
      " [ 334  181 7858  307 1570    6  337    1  154    2    6   35   92   60\n",
      "   111 7858 1554 1826 2785 3659]\n",
      " [  15   28  405    0   35  115   33   25 3577  230   29  412    5 4799\n",
      "     6 1181    2  612  369    6]\n",
      " [  17    0 5437  187 2389  167    4 1684 1973 3463   50   43    3    3\n",
      "     4    0   47   62    2 4331]\n",
      " [1983    9   26 1883 1138    5 4443    0  884  309    2   14    9  253\n",
      "   589   10   64    1 1814  113]]\n"
     ]
    }
   ],
   "source": [
    "init = tf.global_variables_initializer()\n",
    "sess = tf.Session()\n",
    "coord = tf.train.Coordinator()\n",
    "threads = tf.train.start_queue_runners(sess=sess, coord=coord)\n",
    "sess.run(init)\n",
    "try:\n",
    "\n",
    "    output_x = sess.run(x)\n",
    "    output_y = sess.run(y)\n",
    "    print(\"x : \", output_x)\n",
    "    print(\"y : \", output_y)\n",
    "#     index = 0\n",
    "#     while not coord.should_stop() and index<10:\n",
    "#         datalines = sess.run(x)\n",
    "#         index += 1\n",
    "#         print(\"step: %d, batch data: %s\" % (index, datalines.shape))\n",
    "# except tf.errors.OutOfRangeError:\n",
    "#     print(\"Done traing:-------Epoch limit reached\")\n",
    "# except KeyboardInterrupt:\n",
    "#     print(\"keyboard interrput detected, stop training\")\n",
    "finally:\n",
    "    coord.request_stop()\n",
    "coord.join(threads)\n",
    "sess.close()\n",
    "del sess"
   ]
  },
  {
   "cell_type": "code",
   "execution_count": null,
   "metadata": {},
   "outputs": [],
   "source": [
    "cell = tf.contrib.rnn.BasicLSTMCell()"
   ]
  }
 ],
 "metadata": {
  "kernelspec": {
   "display_name": "Python 3",
   "language": "python",
   "name": "python3"
  },
  "language_info": {
   "codemirror_mode": {
    "name": "ipython",
    "version": 3
   },
   "file_extension": ".py",
   "mimetype": "text/x-python",
   "name": "python",
   "nbconvert_exporter": "python",
   "pygments_lexer": "ipython3",
   "version": "3.6.8"
  }
 },
 "nbformat": 4,
 "nbformat_minor": 2
}
